{
  "nbformat": 4,
  "nbformat_minor": 0,
  "metadata": {
    "colab": {
      "provenance": [],
      "collapsed_sections": []
    },
    "kernelspec": {
      "name": "python3",
      "display_name": "Python 3"
    },
    "language_info": {
      "name": "python"
    }
  },
  "cells": [
    {
      "cell_type": "code",
      "execution_count": null,
      "metadata": {
        "id": "-GLFILKAXnfW"
      },
      "outputs": [],
      "source": []
    },
    {
      "cell_type": "code",
      "source": [
        "#import libraries\n",
        "import pandas as pd\n",
        "import matplotlib.pyplot as plt\n",
        "import seaborn as sns\n",
        "from datetime import datetime\n",
        "import numpy as np\n",
        "import warnings\n",
        "warnings.filterwarnings(\"ignore\")"
      ],
      "metadata": {
        "id": "oaCf7XAgX0wg"
      },
      "execution_count": 56,
      "outputs": []
    },
    {
      "cell_type": "code",
      "source": [
        "from google.colab import drive\n",
        "drive.mount('/content/drive')"
      ],
      "metadata": {
        "colab": {
          "base_uri": "https://localhost:8080/"
        },
        "id": "rgzIwoDPX1P5",
        "outputId": "a8056e8a-1709-45bc-a42a-e1bb663c5349"
      },
      "execution_count": 2,
      "outputs": [
        {
          "output_type": "stream",
          "name": "stdout",
          "text": [
            "Drive already mounted at /content/drive; to attempt to forcibly remount, call drive.mount(\"/content/drive\", force_remount=True).\n"
          ]
        }
      ]
    },
    {
      "cell_type": "code",
      "source": [
        "df = pd.read_csv('/content/drive/MyDrive/2222.SR.csv', index_col='Date', parse_dates=True)\n",
        "df.tail()"
      ],
      "metadata": {
        "colab": {
          "base_uri": "https://localhost:8080/",
          "height": 237
        },
        "id": "qWwiCZxfStbM",
        "outputId": "87b742bf-d97d-4df6-cdea-801236de1f0f"
      },
      "execution_count": 58,
      "outputs": [
        {
          "output_type": "execute_result",
          "data": {
            "text/plain": [
              "                 Open       High        Low      Close  Adj Close    Volume\n",
              "Date                                                                       \n",
              "2022-10-26  35.900002  35.900002  34.900002  35.099998  35.099998   6273323\n",
              "2022-10-27  35.099998  35.599998  34.700001  34.700001  34.700001  13767193\n",
              "2022-10-30  35.150002  35.150002  34.700001  34.750000  34.750000   2821008\n",
              "2022-10-31  34.750000  34.750000  34.750000  34.750000  34.750000         0\n",
              "2022-11-01  35.000000  35.200001  34.549999  34.849998  34.849998   5230540"
            ],
            "text/html": [
              "\n",
              "  <div id=\"df-9a97d2db-7c1f-419a-ae31-76c718378730\">\n",
              "    <div class=\"colab-df-container\">\n",
              "      <div>\n",
              "<style scoped>\n",
              "    .dataframe tbody tr th:only-of-type {\n",
              "        vertical-align: middle;\n",
              "    }\n",
              "\n",
              "    .dataframe tbody tr th {\n",
              "        vertical-align: top;\n",
              "    }\n",
              "\n",
              "    .dataframe thead th {\n",
              "        text-align: right;\n",
              "    }\n",
              "</style>\n",
              "<table border=\"1\" class=\"dataframe\">\n",
              "  <thead>\n",
              "    <tr style=\"text-align: right;\">\n",
              "      <th></th>\n",
              "      <th>Open</th>\n",
              "      <th>High</th>\n",
              "      <th>Low</th>\n",
              "      <th>Close</th>\n",
              "      <th>Adj Close</th>\n",
              "      <th>Volume</th>\n",
              "    </tr>\n",
              "    <tr>\n",
              "      <th>Date</th>\n",
              "      <th></th>\n",
              "      <th></th>\n",
              "      <th></th>\n",
              "      <th></th>\n",
              "      <th></th>\n",
              "      <th></th>\n",
              "    </tr>\n",
              "  </thead>\n",
              "  <tbody>\n",
              "    <tr>\n",
              "      <th>2022-10-26</th>\n",
              "      <td>35.900002</td>\n",
              "      <td>35.900002</td>\n",
              "      <td>34.900002</td>\n",
              "      <td>35.099998</td>\n",
              "      <td>35.099998</td>\n",
              "      <td>6273323</td>\n",
              "    </tr>\n",
              "    <tr>\n",
              "      <th>2022-10-27</th>\n",
              "      <td>35.099998</td>\n",
              "      <td>35.599998</td>\n",
              "      <td>34.700001</td>\n",
              "      <td>34.700001</td>\n",
              "      <td>34.700001</td>\n",
              "      <td>13767193</td>\n",
              "    </tr>\n",
              "    <tr>\n",
              "      <th>2022-10-30</th>\n",
              "      <td>35.150002</td>\n",
              "      <td>35.150002</td>\n",
              "      <td>34.700001</td>\n",
              "      <td>34.750000</td>\n",
              "      <td>34.750000</td>\n",
              "      <td>2821008</td>\n",
              "    </tr>\n",
              "    <tr>\n",
              "      <th>2022-10-31</th>\n",
              "      <td>34.750000</td>\n",
              "      <td>34.750000</td>\n",
              "      <td>34.750000</td>\n",
              "      <td>34.750000</td>\n",
              "      <td>34.750000</td>\n",
              "      <td>0</td>\n",
              "    </tr>\n",
              "    <tr>\n",
              "      <th>2022-11-01</th>\n",
              "      <td>35.000000</td>\n",
              "      <td>35.200001</td>\n",
              "      <td>34.549999</td>\n",
              "      <td>34.849998</td>\n",
              "      <td>34.849998</td>\n",
              "      <td>5230540</td>\n",
              "    </tr>\n",
              "  </tbody>\n",
              "</table>\n",
              "</div>\n",
              "      <button class=\"colab-df-convert\" onclick=\"convertToInteractive('df-9a97d2db-7c1f-419a-ae31-76c718378730')\"\n",
              "              title=\"Convert this dataframe to an interactive table.\"\n",
              "              style=\"display:none;\">\n",
              "        \n",
              "  <svg xmlns=\"http://www.w3.org/2000/svg\" height=\"24px\"viewBox=\"0 0 24 24\"\n",
              "       width=\"24px\">\n",
              "    <path d=\"M0 0h24v24H0V0z\" fill=\"none\"/>\n",
              "    <path d=\"M18.56 5.44l.94 2.06.94-2.06 2.06-.94-2.06-.94-.94-2.06-.94 2.06-2.06.94zm-11 1L8.5 8.5l.94-2.06 2.06-.94-2.06-.94L8.5 2.5l-.94 2.06-2.06.94zm10 10l.94 2.06.94-2.06 2.06-.94-2.06-.94-.94-2.06-.94 2.06-2.06.94z\"/><path d=\"M17.41 7.96l-1.37-1.37c-.4-.4-.92-.59-1.43-.59-.52 0-1.04.2-1.43.59L10.3 9.45l-7.72 7.72c-.78.78-.78 2.05 0 2.83L4 21.41c.39.39.9.59 1.41.59.51 0 1.02-.2 1.41-.59l7.78-7.78 2.81-2.81c.8-.78.8-2.07 0-2.86zM5.41 20L4 18.59l7.72-7.72 1.47 1.35L5.41 20z\"/>\n",
              "  </svg>\n",
              "      </button>\n",
              "      \n",
              "  <style>\n",
              "    .colab-df-container {\n",
              "      display:flex;\n",
              "      flex-wrap:wrap;\n",
              "      gap: 12px;\n",
              "    }\n",
              "\n",
              "    .colab-df-convert {\n",
              "      background-color: #E8F0FE;\n",
              "      border: none;\n",
              "      border-radius: 50%;\n",
              "      cursor: pointer;\n",
              "      display: none;\n",
              "      fill: #1967D2;\n",
              "      height: 32px;\n",
              "      padding: 0 0 0 0;\n",
              "      width: 32px;\n",
              "    }\n",
              "\n",
              "    .colab-df-convert:hover {\n",
              "      background-color: #E2EBFA;\n",
              "      box-shadow: 0px 1px 2px rgba(60, 64, 67, 0.3), 0px 1px 3px 1px rgba(60, 64, 67, 0.15);\n",
              "      fill: #174EA6;\n",
              "    }\n",
              "\n",
              "    [theme=dark] .colab-df-convert {\n",
              "      background-color: #3B4455;\n",
              "      fill: #D2E3FC;\n",
              "    }\n",
              "\n",
              "    [theme=dark] .colab-df-convert:hover {\n",
              "      background-color: #434B5C;\n",
              "      box-shadow: 0px 1px 3px 1px rgba(0, 0, 0, 0.15);\n",
              "      filter: drop-shadow(0px 1px 2px rgba(0, 0, 0, 0.3));\n",
              "      fill: #FFFFFF;\n",
              "    }\n",
              "  </style>\n",
              "\n",
              "      <script>\n",
              "        const buttonEl =\n",
              "          document.querySelector('#df-9a97d2db-7c1f-419a-ae31-76c718378730 button.colab-df-convert');\n",
              "        buttonEl.style.display =\n",
              "          google.colab.kernel.accessAllowed ? 'block' : 'none';\n",
              "\n",
              "        async function convertToInteractive(key) {\n",
              "          const element = document.querySelector('#df-9a97d2db-7c1f-419a-ae31-76c718378730');\n",
              "          const dataTable =\n",
              "            await google.colab.kernel.invokeFunction('convertToInteractive',\n",
              "                                                     [key], {});\n",
              "          if (!dataTable) return;\n",
              "\n",
              "          const docLinkHtml = 'Like what you see? Visit the ' +\n",
              "            '<a target=\"_blank\" href=https://colab.research.google.com/notebooks/data_table.ipynb>data table notebook</a>'\n",
              "            + ' to learn more about interactive tables.';\n",
              "          element.innerHTML = '';\n",
              "          dataTable['output_type'] = 'display_data';\n",
              "          await google.colab.output.renderOutput(dataTable, element);\n",
              "          const docLink = document.createElement('div');\n",
              "          docLink.innerHTML = docLinkHtml;\n",
              "          element.appendChild(docLink);\n",
              "        }\n",
              "      </script>\n",
              "    </div>\n",
              "  </div>\n",
              "  "
            ]
          },
          "metadata": {},
          "execution_count": 58
        }
      ]
    },
    {
      "cell_type": "code",
      "source": [
        "#check missing data\n",
        "df.isna().sum()"
      ],
      "metadata": {
        "colab": {
          "base_uri": "https://localhost:8080/"
        },
        "id": "roFkKQQcMa94",
        "outputId": "efaed2f4-c4d9-4071-bafe-495dd4392b4f"
      },
      "execution_count": 59,
      "outputs": [
        {
          "output_type": "execute_result",
          "data": {
            "text/plain": [
              "Open         0\n",
              "High         0\n",
              "Low          0\n",
              "Close        0\n",
              "Adj Close    0\n",
              "Volume       0\n",
              "dtype: int64"
            ]
          },
          "metadata": {},
          "execution_count": 59
        }
      ]
    },
    {
      "cell_type": "code",
      "source": [
        "# plot Close Price\n",
        "plt.figure(figsize=(10,5))\n",
        "df['Close'].plot()"
      ],
      "metadata": {
        "colab": {
          "base_uri": "https://localhost:8080/",
          "height": 343
        },
        "id": "FGTl27nCYDDZ",
        "outputId": "174df2a3-4ea9-447b-f57d-afa229a1036f"
      },
      "execution_count": 60,
      "outputs": [
        {
          "output_type": "execute_result",
          "data": {
            "text/plain": [
              "<matplotlib.axes._subplots.AxesSubplot at 0x7f896105aa50>"
            ]
          },
          "metadata": {},
          "execution_count": 60
        },
        {
          "output_type": "display_data",
          "data": {
            "text/plain": [
              "<Figure size 720x360 with 1 Axes>"
            ],
            "image/png": "[encoded data removed]"
          },
          "metadata": {
            "needs_background": "light"
          }
        }
      ]
    },
    {
      "cell_type": "code",
      "source": [
        "# Filter data and create Training data\n",
        "data = df.filter(['Close'])\n",
        "\n",
        "dataset = data.values\n",
        "\n",
        "training_data_len = int(np.ceil( len(dataset) * 0.95 ))\n",
        "\n",
        "training_data_len"
      ],
      "metadata": {
        "id": "OzC3RC-tZB8-",
        "colab": {
          "base_uri": "https://localhost:8080/"
        },
        "outputId": "3e7b3654-4536-4dca-a4db-3228dcc97314"
      },
      "execution_count": 61,
      "outputs": [
        {
          "output_type": "execute_result",
          "data": {
            "text/plain": [
              "687"
            ]
          },
          "metadata": {},
          "execution_count": 61
        }
      ]
    },
    {
      "cell_type": "code",
      "source": [
        "#Create a new dataframe with only the 'Close column'\n",
        "from sklearn.preprocessing import MinMaxScaler\n",
        "\n",
        "scaler = MinMaxScaler(feature_range=(0,1))\n",
        "scaled_data = scaler.fit_transform(dataset)\n",
        "\n",
        "scaled_data.shape"
      ],
      "metadata": {
        "colab": {
          "base_uri": "https://localhost:8080/"
        },
        "id": "n2bmEQ0weH_Y",
        "outputId": "5e647c93-acfe-48a1-970f-2232a90672c2"
      },
      "execution_count": 63,
      "outputs": [
        {
          "output_type": "execute_result",
          "data": {
            "text/plain": [
              "(723, 1)"
            ]
          },
          "metadata": {},
          "execution_count": 63
        }
      ]
    },
    {
      "cell_type": "code",
      "source": [
        "training_data_len\n"
      ],
      "metadata": {
        "colab": {
          "base_uri": "https://localhost:8080/"
        },
        "id": "oCnX_81Weowz",
        "outputId": "8d1a86a5-232f-44e5-9ace-a451910bcae7"
      },
      "execution_count": 64,
      "outputs": [
        {
          "output_type": "execute_result",
          "data": {
            "text/plain": [
              "687"
            ]
          },
          "metadata": {},
          "execution_count": 64
        }
      ]
    },
    {
      "cell_type": "code",
      "source": [
        "# Create the training data set \n",
        "# Create the scaled training data set\n",
        "\n",
        "train_data = scaled_data[0:int(training_data_len), :]\n",
        "\n",
        "x_train = []\n",
        "y_train = []\n",
        "\n",
        "for i in range(60, len(train_data)):\n",
        "\n",
        "  x_train.append(train_data[i-60:i, 0])\n",
        "  y_train.append(train_data[i, 0])\n",
        "\n",
        "  if i<=61:\n",
        "    print(x_train)\n",
        "    print(y_train)\n",
        "    print()\n",
        "\n",
        "# Convert the x_train and y_train to numpy arrays \n",
        "x_train, y_train = np.array(x_train), np.array(y_train)\n",
        "\n",
        "# Reshape the data\n",
        "x_train = np.reshape(x_train, (x_train.shape[0], x_train.shape[1], 1))\n"
      ],
      "metadata": {
        "colab": {
          "base_uri": "https://localhost:8080/"
        },
        "id": "g_FRD9r_eqh_",
        "outputId": "1b49bab0-8cb4-4429-9b84-4874d82b3dd0"
      },
      "execution_count": 30,
      "outputs": [
        {
          "output_type": "stream",
          "name": "stdout",
          "text": [
            "[array([0.31322748, 0.38095239, 0.40634918, 0.43174607, 0.42116403,\n",
            "       0.37671957, 0.3259259 , 0.3174603 , 0.33015877, 0.32169318,\n",
            "       0.31322748, 0.31957674, 0.32169318, 0.31111104, 0.31534392,\n",
            "       0.30899476, 0.31111104, 0.28571431, 0.28359787, 0.27724871,\n",
            "       0.27089945, 0.30476188, 0.29629629, 0.29417985, 0.29841273,\n",
            "       0.29206347, 0.28783069, 0.27724871, 0.28783069, 0.28571431,\n",
            "       0.28148143, 0.28148143, 0.27513228, 0.27301584, 0.27301584,\n",
            "       0.2793651 , 0.26878312, 0.26031752, 0.26031752, 0.25608465,\n",
            "       0.24761905, 0.23703707, 0.26455024, 0.24550267, 0.23915351,\n",
            "       0.22857148, 0.2243386 , 0.2243386 , 0.2243386 , 0.22857148,\n",
            "       0.23703707, 0.24761905, 0.26455024, 0.23703707, 0.24126979,\n",
            "       0.23915351, 0.23492063, 0.20529103, 0.21164018, 0.22222222])]\n",
            "[0.22222221653145224]\n",
            "\n",
            "[array([0.31322748, 0.38095239, 0.40634918, 0.43174607, 0.42116403,\n",
            "       0.37671957, 0.3259259 , 0.3174603 , 0.33015877, 0.32169318,\n",
            "       0.31322748, 0.31957674, 0.32169318, 0.31111104, 0.31534392,\n",
            "       0.30899476, 0.31111104, 0.28571431, 0.28359787, 0.27724871,\n",
            "       0.27089945, 0.30476188, 0.29629629, 0.29417985, 0.29841273,\n",
            "       0.29206347, 0.28783069, 0.27724871, 0.28783069, 0.28571431,\n",
            "       0.28148143, 0.28148143, 0.27513228, 0.27301584, 0.27301584,\n",
            "       0.2793651 , 0.26878312, 0.26031752, 0.26031752, 0.25608465,\n",
            "       0.24761905, 0.23703707, 0.26455024, 0.24550267, 0.23915351,\n",
            "       0.22857148, 0.2243386 , 0.2243386 , 0.2243386 , 0.22857148,\n",
            "       0.23703707, 0.24761905, 0.26455024, 0.23703707, 0.24126979,\n",
            "       0.23915351, 0.23492063, 0.20529103, 0.21164018, 0.22222222]), array([0.38095239, 0.40634918, 0.43174607, 0.42116403, 0.37671957,\n",
            "       0.3259259 , 0.3174603 , 0.33015877, 0.32169318, 0.31322748,\n",
            "       0.31957674, 0.32169318, 0.31111104, 0.31534392, 0.30899476,\n",
            "       0.31111104, 0.28571431, 0.28359787, 0.27724871, 0.27089945,\n",
            "       0.30476188, 0.29629629, 0.29417985, 0.29841273, 0.29206347,\n",
            "       0.28783069, 0.27724871, 0.28783069, 0.28571431, 0.28148143,\n",
            "       0.28148143, 0.27513228, 0.27301584, 0.27301584, 0.2793651 ,\n",
            "       0.26878312, 0.26031752, 0.26031752, 0.25608465, 0.24761905,\n",
            "       0.23703707, 0.26455024, 0.24550267, 0.23915351, 0.22857148,\n",
            "       0.2243386 , 0.2243386 , 0.2243386 , 0.22857148, 0.23703707,\n",
            "       0.24761905, 0.26455024, 0.23703707, 0.24126979, 0.23915351,\n",
            "       0.23492063, 0.20529103, 0.21164018, 0.22222222, 0.22222222])]\n",
            "[0.22222221653145224, 0.2201057793490675]\n",
            "\n"
          ]
        }
      ]
    },
    {
      "cell_type": "code",
      "source": [
        "train_data.shape"
      ],
      "metadata": {
        "colab": {
          "base_uri": "https://localhost:8080/"
        },
        "id": "h617ZwbjfIi9",
        "outputId": "78756446-b708-49f5-9934-bcafe70e65a3"
      },
      "execution_count": 32,
      "outputs": [
        {
          "output_type": "execute_result",
          "data": {
            "text/plain": [
              "(687, 1)"
            ]
          },
          "metadata": {},
          "execution_count": 32
        }
      ]
    },
    {
      "cell_type": "code",
      "source": [
        "x_train.shape"
      ],
      "metadata": {
        "colab": {
          "base_uri": "https://localhost:8080/"
        },
        "id": "-dBdcGTphAni",
        "outputId": "4d7c7b13-ac4a-4683-9e1c-efcb0f5b0cd9"
      },
      "execution_count": 33,
      "outputs": [
        {
          "output_type": "execute_result",
          "data": {
            "text/plain": [
              "(627, 60, 1)"
            ]
          },
          "metadata": {},
          "execution_count": 33
        }
      ]
    },
    {
      "cell_type": "code",
      "source": [
        "#Import libraries\n",
        "from keras.models import Sequential\n",
        "from keras.layers import Dense, LSTM"
      ],
      "metadata": {
        "id": "hOZpJppihDlg"
      },
      "execution_count": 34,
      "outputs": []
    },
    {
      "cell_type": "code",
      "source": [
        "# Create LSTM model\n",
        "model = Sequential()\n",
        "\n",
        "model.add(LSTM(200, return_sequences=True,\n",
        "               input_shape=(x_train.shape[1], 1) ))\n",
        "\n",
        "model.add(LSTM(128, return_sequences=False))\n",
        "model.add(Dense(64))\n",
        "model.add(Dense(1))\n",
        "\n",
        "model.compile(optimizer='adam', loss='mean_squared_error')\n",
        "\n"
      ],
      "metadata": {
        "id": "S2SdByo0hGc-"
      },
      "execution_count": 35,
      "outputs": []
    },
    {
      "cell_type": "code",
      "source": [
        "#fit the model \n",
        "model.fit(x_train, y_train, batch_size=1, epochs=10)"
      ],
      "metadata": {
        "colab": {
          "base_uri": "https://localhost:8080/"
        },
        "id": "nNDm3CGKjef2",
        "outputId": "8a63fef9-fb94-41cb-c5b8-98732a185955"
      },
      "execution_count": 36,
      "outputs": [
        {
          "output_type": "stream",
          "name": "stdout",
          "text": [
            "Epoch 1/10\n",
            "627/627 [==============================] - 61s 91ms/step - loss: 0.0053\n",
            "Epoch 2/10\n",
            "627/627 [==============================] - 56s 90ms/step - loss: 0.0019\n",
            "Epoch 3/10\n",
            "627/627 [==============================] - 50s 79ms/step - loss: 0.0019\n",
            "Epoch 4/10\n",
            "627/627 [==============================] - 52s 82ms/step - loss: 0.0013\n",
            "Epoch 5/10\n",
            "627/627 [==============================] - 47s 75ms/step - loss: 0.0011\n",
            "Epoch 6/10\n",
            "627/627 [==============================] - 57s 91ms/step - loss: 9.6453e-04\n",
            "Epoch 7/10\n",
            "627/627 [==============================] - 48s 76ms/step - loss: 9.7335e-04\n",
            "Epoch 8/10\n",
            "627/627 [==============================] - 43s 69ms/step - loss: 0.0010\n",
            "Epoch 9/10\n",
            "627/627 [==============================] - 43s 68ms/step - loss: 0.0010\n",
            "Epoch 10/10\n",
            "627/627 [==============================] - 43s 69ms/step - loss: 9.2383e-04\n"
          ]
        },
        {
          "output_type": "execute_result",
          "data": {
            "text/plain": [
              "<keras.callbacks.History at 0x7f89623be0d0>"
            ]
          },
          "metadata": {},
          "execution_count": 36
        }
      ]
    },
    {
      "cell_type": "code",
      "source": [
        "model.summary()"
      ],
      "metadata": {
        "colab": {
          "base_uri": "https://localhost:8080/"
        },
        "id": "1lwLvCPEnmgT",
        "outputId": "df6223fc-7346-4292-f6f7-db34a06efa20"
      },
      "execution_count": 38,
      "outputs": [
        {
          "output_type": "stream",
          "name": "stdout",
          "text": [
            "Model: \"sequential_2\"\n",
            "_________________________________________________________________\n",
            " Layer (type)                Output Shape              Param #   \n",
            "=================================================================\n",
            " lstm_4 (LSTM)               (None, 60, 200)           161600    \n",
            "                                                                 \n",
            " lstm_5 (LSTM)               (None, 128)               168448    \n",
            "                                                                 \n",
            " dense_4 (Dense)             (None, 64)                8256      \n",
            "                                                                 \n",
            " dense_5 (Dense)             (None, 1)                 65        \n",
            "                                                                 \n",
            "=================================================================\n",
            "Total params: 338,369\n",
            "Trainable params: 338,369\n",
            "Non-trainable params: 0\n",
            "_________________________________________________________________\n"
          ]
        }
      ]
    },
    {
      "cell_type": "code",
      "source": [
        "# Create the testing data set\n",
        " \n",
        "test_data = scaled_data[training_data_len - 60: , :]\n",
        "x_test = []\n",
        "y_test = dataset[training_data_len:, :]\n",
        "for i in range(60, len(test_data)):\n",
        "    x_test.append(test_data[i-60:i, 0])\n",
        "    \n",
        "x_test = np.array(x_test)\n",
        "\n",
        "\n",
        "x_test = np.reshape(x_test, (x_test.shape[0], x_test.shape[1], 1 ))\n",
        "\n",
        "#predicted price values \n",
        "predictions = model.predict(x_test)\n",
        "predictions = scaler.inverse_transform(predictions)\n",
        "\n",
        "# Mean squared error (RMSE)\n",
        "rmse = np.sqrt(np.mean(((predictions - y_test) ** 2)))\n",
        "rmse\n",
        "\n"
      ],
      "metadata": {
        "colab": {
          "base_uri": "https://localhost:8080/"
        },
        "id": "c0Wn2v4H53gZ",
        "outputId": "a62055f6-7371-4a9b-c0ff-6752d498b45a"
      },
      "execution_count": 39,
      "outputs": [
        {
          "output_type": "stream",
          "name": "stdout",
          "text": [
            "2/2 [==============================] - 1s 41ms/step\n"
          ]
        },
        {
          "output_type": "execute_result",
          "data": {
            "text/plain": [
              "0.5956842935769958"
            ]
          },
          "metadata": {},
          "execution_count": 39
        }
      ]
    },
    {
      "cell_type": "code",
      "source": [
        "# Plot the data\n",
        "train = data[:training_data_len]\n",
        "valid = data[training_data_len:]\n",
        "valid['Predictions'] = predictions\n",
        "# Visualize the data\n",
        "plt.figure(figsize=(16,6))\n",
        "plt.title('Model')\n",
        "plt.xlabel('Date', fontsize=18)\n",
        "plt.ylabel('Close Price USD ($)', fontsize=18)\n",
        "plt.plot(train['Close'])\n",
        "plt.plot(valid[['Close', 'Predictions']])\n",
        "#Plot'Close\n",
        "plt.legend(['Train', 'Val', 'Predictions'], loc='lower right')\n",
        "plt.show()"
      ],
      "metadata": {
        "colab": {
          "base_uri": "https://localhost:8080/",
          "height": 412
        },
        "id": "Y7QnFXd653jq",
        "outputId": "8999538c-6642-4c58-b6bd-95a5623031b6"
      },
      "execution_count": 57,
      "outputs": [
        {
          "output_type": "display_data",
          "data": {
            "text/plain": [
              "<Figure size 1152x432 with 1 Axes>"
            ],
            "image/png": "[encoded data removed]"
          },
          "metadata": {
            "needs_background": "light"
          }
        }
      ]
    },
    {
      "cell_type": "code",
      "source": [
        "valid.tail()"
      ],
      "metadata": {
        "colab": {
          "base_uri": "https://localhost:8080/",
          "height": 237
        },
        "id": "OJ02b5lxShKN",
        "outputId": "dcaf1377-1d2d-4334-c814-c4b59e051722"
      },
      "execution_count": 49,
      "outputs": [
        {
          "output_type": "execute_result",
          "data": {
            "text/plain": [
              "                Close  Predictions\n",
              "Date                              \n",
              "2022-10-26  35.099998    35.042423\n",
              "2022-10-27  34.700001    34.476845\n",
              "2022-10-30  34.750000    34.190979\n",
              "2022-10-31  34.750000    34.330063\n",
              "2022-11-01  34.849998    34.346806"
            ],
            "text/html": [
              "\n",
              "  <div id=\"df-0da8cfe5-fb9d-4699-b210-85eea221e2d0\">\n",
              "    <div class=\"colab-df-container\">\n",
              "      <div>\n",
              "<style scoped>\n",
              "    .dataframe tbody tr th:only-of-type {\n",
              "        vertical-align: middle;\n",
              "    }\n",
              "\n",
              "    .dataframe tbody tr th {\n",
              "        vertical-align: top;\n",
              "    }\n",
              "\n",
              "    .dataframe thead th {\n",
              "        text-align: right;\n",
              "    }\n",
              "</style>\n",
              "<table border=\"1\" class=\"dataframe\">\n",
              "  <thead>\n",
              "    <tr style=\"text-align: right;\">\n",
              "      <th></th>\n",
              "      <th>Close</th>\n",
              "      <th>Predictions</th>\n",
              "    </tr>\n",
              "    <tr>\n",
              "      <th>Date</th>\n",
              "      <th></th>\n",
              "      <th></th>\n",
              "    </tr>\n",
              "  </thead>\n",
              "  <tbody>\n",
              "    <tr>\n",
              "      <th>2022-10-26</th>\n",
              "      <td>35.099998</td>\n",
              "      <td>35.042423</td>\n",
              "    </tr>\n",
              "    <tr>\n",
              "      <th>2022-10-27</th>\n",
              "      <td>34.700001</td>\n",
              "      <td>34.476845</td>\n",
              "    </tr>\n",
              "    <tr>\n",
              "      <th>2022-10-30</th>\n",
              "      <td>34.750000</td>\n",
              "      <td>34.190979</td>\n",
              "    </tr>\n",
              "    <tr>\n",
              "      <th>2022-10-31</th>\n",
              "      <td>34.750000</td>\n",
              "      <td>34.330063</td>\n",
              "    </tr>\n",
              "    <tr>\n",
              "      <th>2022-11-01</th>\n",
              "      <td>34.849998</td>\n",
              "      <td>34.346806</td>\n",
              "    </tr>\n",
              "  </tbody>\n",
              "</table>\n",
              "</div>\n",
              "      <button class=\"colab-df-convert\" onclick=\"convertToInteractive('df-0da8cfe5-fb9d-4699-b210-85eea221e2d0')\"\n",
              "              title=\"Convert this dataframe to an interactive table.\"\n",
              "              style=\"display:none;\">\n",
              "        \n",
              "  <svg xmlns=\"http://www.w3.org/2000/svg\" height=\"24px\"viewBox=\"0 0 24 24\"\n",
              "       width=\"24px\">\n",
              "    <path d=\"M0 0h24v24H0V0z\" fill=\"none\"/>\n",
              "    <path d=\"M18.56 5.44l.94 2.06.94-2.06 2.06-.94-2.06-.94-.94-2.06-.94 2.06-2.06.94zm-11 1L8.5 8.5l.94-2.06 2.06-.94-2.06-.94L8.5 2.5l-.94 2.06-2.06.94zm10 10l.94 2.06.94-2.06 2.06-.94-2.06-.94-.94-2.06-.94 2.06-2.06.94z\"/><path d=\"M17.41 7.96l-1.37-1.37c-.4-.4-.92-.59-1.43-.59-.52 0-1.04.2-1.43.59L10.3 9.45l-7.72 7.72c-.78.78-.78 2.05 0 2.83L4 21.41c.39.39.9.59 1.41.59.51 0 1.02-.2 1.41-.59l7.78-7.78 2.81-2.81c.8-.78.8-2.07 0-2.86zM5.41 20L4 18.59l7.72-7.72 1.47 1.35L5.41 20z\"/>\n",
              "  </svg>\n",
              "      </button>\n",
              "      \n",
              "  <style>\n",
              "    .colab-df-container {\n",
              "      display:flex;\n",
              "      flex-wrap:wrap;\n",
              "      gap: 12px;\n",
              "    }\n",
              "\n",
              "    .colab-df-convert {\n",
              "      background-color: #E8F0FE;\n",
              "      border: none;\n",
              "      border-radius: 50%;\n",
              "      cursor: pointer;\n",
              "      display: none;\n",
              "      fill: #1967D2;\n",
              "      height: 32px;\n",
              "      padding: 0 0 0 0;\n",
              "      width: 32px;\n",
              "    }\n",
              "\n",
              "    .colab-df-convert:hover {\n",
              "      background-color: #E2EBFA;\n",
              "      box-shadow: 0px 1px 2px rgba(60, 64, 67, 0.3), 0px 1px 3px 1px rgba(60, 64, 67, 0.15);\n",
              "      fill: #174EA6;\n",
              "    }\n",
              "\n",
              "    [theme=dark] .colab-df-convert {\n",
              "      background-color: #3B4455;\n",
              "      fill: #D2E3FC;\n",
              "    }\n",
              "\n",
              "    [theme=dark] .colab-df-convert:hover {\n",
              "      background-color: #434B5C;\n",
              "      box-shadow: 0px 1px 3px 1px rgba(0, 0, 0, 0.15);\n",
              "      filter: drop-shadow(0px 1px 2px rgba(0, 0, 0, 0.3));\n",
              "      fill: #FFFFFF;\n",
              "    }\n",
              "  </style>\n",
              "\n",
              "      <script>\n",
              "        const buttonEl =\n",
              "          document.querySelector('#df-0da8cfe5-fb9d-4699-b210-85eea221e2d0 button.colab-df-convert');\n",
              "        buttonEl.style.display =\n",
              "          google.colab.kernel.accessAllowed ? 'block' : 'none';\n",
              "\n",
              "        async function convertToInteractive(key) {\n",
              "          const element = document.querySelector('#df-0da8cfe5-fb9d-4699-b210-85eea221e2d0');\n",
              "          const dataTable =\n",
              "            await google.colab.kernel.invokeFunction('convertToInteractive',\n",
              "                                                     [key], {});\n",
              "          if (!dataTable) return;\n",
              "\n",
              "          const docLinkHtml = 'Like what you see? Visit the ' +\n",
              "            '<a target=\"_blank\" href=https://colab.research.google.com/notebooks/data_table.ipynb>data table notebook</a>'\n",
              "            + ' to learn more about interactive tables.';\n",
              "          element.innerHTML = '';\n",
              "          dataTable['output_type'] = 'display_data';\n",
              "          await google.colab.output.renderOutput(dataTable, element);\n",
              "          const docLink = document.createElement('div');\n",
              "          docLink.innerHTML = docLinkHtml;\n",
              "          element.appendChild(docLink);\n",
              "        }\n",
              "      </script>\n",
              "    </div>\n",
              "  </div>\n",
              "  "
            ]
          },
          "metadata": {},
          "execution_count": 49
        }
      ]
    },
    {
      "cell_type": "code",
      "source": [
        "new_df = df.filter(['Close'])\n",
        "\n",
        "# Get the last 60 day closing price values and convert the dataframe to array\n",
        "last_60_days = new_df[-60:].values\n",
        "last_60_days_scaled = scaler.transform(last_60_days)\n",
        "\n",
        "X_test = []\n",
        "X_test.append(last_60_days_scaled)\n",
        "\n",
        "X_test = np.array(X_test)\n",
        "\n",
        "X_test = np.reshape(X_test, (X_test.shape[0], X_test.shape[1], 1))\n",
        "\n",
        "pred_price = model.predict(X_test)\n",
        "\n",
        "pred_price = scaler.inverse_transform(pred_price)\n"
      ],
      "metadata": {
        "colab": {
          "base_uri": "https://localhost:8080/"
        },
        "id": "ksTcOxbW53q-",
        "outputId": "e4fb989c-609b-492c-a813-0a7f030a007a"
      },
      "execution_count": 50,
      "outputs": [
        {
          "output_type": "stream",
          "name": "stdout",
          "text": [
            "1/1 [==============================] - 0s 27ms/step\n"
          ]
        }
      ]
    },
    {
      "cell_type": "code",
      "source": [
        "print('Predicting closing price for day 11-02-2022', np.round(pred_price, 2))\n",
        "print('Actual Closing Price for day 11-02-2022 {34.40}')"
      ],
      "metadata": {
        "colab": {
          "base_uri": "https://localhost:8080/"
        },
        "id": "tsnofSglSpFy",
        "outputId": "68e2a122-03a5-4127-cd29-628c1c4f5f10"
      },
      "execution_count": 53,
      "outputs": [
        {
          "output_type": "stream",
          "name": "stdout",
          "text": [
            "Predicting closing price for day 11-02-2022 [[34.44]]\n",
            "Actual Closing Price for day 11-02-2022 {34.40}\n"
          ]
        }
      ]
    }
  ]
}